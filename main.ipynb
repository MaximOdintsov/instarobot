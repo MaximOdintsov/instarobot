{
 "cells": [
  {
   "cell_type": "code",
   "execution_count": 15,
   "metadata": {},
   "outputs": [],
   "source": [
    "import time\n",
    "import json\n",
    "import asyncio\n",
    "from typing import List\n",
    "from datetime import datetime\n",
    "\n",
    "from selenium import webdriver\n",
    "from selenium.webdriver.common.by import By\n",
    "\n",
    "from helpers.selenium_management import start_driver, open_link, get_wait_element, get_wait_elements, close_driver, get_links\n",
    "from helpers.utils import extract_original_link, parse_activity_data, validate_instagram_url, ACCOUNT_VALUE\n",
    "from helpers.excel import PyXLWriter\n",
    "\n",
    "# from database.orm import insert_new_account, async_session\n",
    "import config\n",
    "from robot import auth"
   ]
  },
  {
   "cell_type": "code",
   "execution_count": 16,
   "metadata": {},
   "outputs": [],
   "source": [
    "with open('data/incoming_data/account_links.txt', \"r\", encoding=\"utf-8\") as file:\n",
    "    accounts = file.read()\n",
    "    accounts = accounts.split('\\n')\n"
   ]
  },
  {
   "cell_type": "code",
   "execution_count": 26,
   "metadata": {},
   "outputs": [],
   "source": [
    "import re\n",
    "POST_VALUE = 1\n",
    "ACCOUNT_VALUE = 2\n",
    "INVALID_VALUE = 9\n",
    "\n",
    "def validate_instagram_url(url: str) -> int:\n",
    "    \"\"\"\n",
    "    Проверяет, является ли ссылка ссылкой на пост или на аккаунт в Instagram.\n",
    "    \n",
    "    Args:\n",
    "        url (str): Ссылка для проверки\n",
    "    \n",
    "    Returns:\n",
    "        int: POST_VALUE если это ссылка на пост,\n",
    "             ACCOUNT_VALUE если это ссылка на аккаунт,\n",
    "             INVALID_VALUE в противном случае\n",
    "    \"\"\"\n",
    "\n",
    "    # Определяем паттерны для проверки URL\n",
    "    post_pattern = re.compile(\n",
    "        r\"^https?:\\/\\/(?:www\\.)?instagram\\.com\\/p\\/[\\w\\-]+(?:\\/)?$\"\n",
    "    )\n",
    "    account_pattern = re.compile(\n",
    "        r\"^https?:\\/\\/(?:www\\.)?instagram\\.com\\/[\\w\\.]+(?:\\/)?$\"\n",
    "    )\n",
    "    \n",
    "    if post_pattern.match(url):\n",
    "        return POST_VALUE\n",
    "    elif account_pattern.match(url):\n",
    "        return ACCOUNT_VALUE\n",
    "    else:\n",
    "        return INVALID_VALUE"
   ]
  },
  {
   "cell_type": "code",
   "execution_count": 29,
   "metadata": {},
   "outputs": [
    {
     "name": "stdout",
     "output_type": "stream",
     "text": [
      "https://www.instagram.com/bbw_badd\n",
      "https://www.instagram.com/kentari_/\n",
      "https://www.instagram.com/bbw_badd/1\n",
      "Ссылка \"https://www.instagram.com/bbw_badd/1\" является невалидной. Должна быть ссылка на аккаунт\n",
      "https://www.instagram.com/p/bbw_badd12/\n",
      "Ссылка \"https://www.instagram.com/p/bbw_badd12/\" является невалидной. Должна быть ссылка на аккаунт\n",
      "https://www.instagram.com/p/bbw_badd12\n",
      "Ссылка \"https://www.instagram.com/p/bbw_badd12\" является невалидной. Должна быть ссылка на аккаунт\n",
      "https://www.instagram.com/p/b23_bw_badd/213\n",
      "Ссылка \"https://www.instagram.com/p/b23_bw_badd/213\" является невалидной. Должна быть ссылка на аккаунт\n"
     ]
    }
   ],
   "source": [
    "with open('data/incoming_data/account_links.txt', \"r\", encoding=\"utf-8\") as file:\n",
    "    accounts = file.read()\n",
    "    accounts = accounts.split('\\n')\n",
    "for account_link in accounts:\n",
    "    print(account_link)\n",
    "    link_type = validate_instagram_url(account_link)\n",
    "    if link_type != ACCOUNT_VALUE:\n",
    "        print(f'Ссылка \"{account_link}\" является невалидной. Должна быть ссылка на аккаунт')\n"
   ]
  },
  {
   "cell_type": "code",
   "execution_count": null,
   "metadata": {},
   "outputs": [],
   "source": []
  },
  {
   "cell_type": "code",
   "execution_count": null,
   "metadata": {},
   "outputs": [],
   "source": []
  },
  {
   "cell_type": "code",
   "execution_count": 7,
   "metadata": {},
   "outputs": [
    {
     "name": "stdout",
     "output_type": "stream",
     "text": [
      "Подписаться\n"
     ]
    }
   ],
   "source": [
    "import random\n",
    "from selenium.webdriver.common.action_chains import ActionChains\n",
    "from selenium.webdriver.common.keys import Keys\n",
    "\n",
    "\n",
    "driver = start_driver()\n",
    "auth(driver=driver, username='odintsovmaxim4@gmail.com', password='password1923DF!')\n",
    "with open(config.MESSAGE_TEMPLATES_PATH, \"r\", encoding=\"utf-8\") as file:\n",
    "    messages = json.load(file)\n",
    "\n",
    "open_link(driver=driver, link='https://www.instagram.com/wifimoneymotivated/')\n",
    "time.sleep(2)\n",
    "\n",
    "# Подписка + сообщение\n",
    "follow_button = get_wait_element(\n",
    "    driver=driver, \n",
    "    by=By.XPATH, \n",
    "    searched_elem=\".//div[contains(text(), 'Подписаться')]\",\n",
    "    delay=2,\n",
    "    attempts=2,\n",
    "    is_error=False\n",
    ")\n",
    "send_message_button = get_wait_element(\n",
    "    driver=driver, \n",
    "    by=By.XPATH, \n",
    "    searched_elem=\".//div[@role='button' and contains(text(), 'Отправить сообщение')]\",\n",
    "    delay=2,\n",
    "    attempts=2,\n",
    "    is_error=False\n",
    ")\n",
    "print(follow_button.text)\n",
    "\n",
    "# Нажать \"Подписаться\"\n",
    "if follow_button:\n",
    "    follow_button.click()\n",
    "    time.sleep(1)\n",
    "\n",
    "# # Нажать \"Отправить сообщение\"\n",
    "# if send_message_button:\n",
    "#     send_message_button.click()\n",
    "    \n",
    "#     notification_button = get_wait_element(  # Модальное окно \"Включить уведомления?\"\n",
    "#         driver=driver,\n",
    "#         by=By.XPATH,\n",
    "#         searched_elem=\"//button[text()='Не сейчас']\",\n",
    "#         delay=3,\n",
    "#         logs=False,\n",
    "#         is_error=False,\n",
    "#         attempts=1\n",
    "#     )\n",
    "#     if notification_button:\n",
    "#         notification_button.click()  \n",
    "\n",
    "# # Отправить рандомный шаблон сообщения\n",
    "# if send_message_button:\n",
    "#     send_message_field_element = get_wait_element(\n",
    "#         driver=driver, \n",
    "#         by=By.XPATH, \n",
    "#         searched_elem=\".//div[@role='textbox' and @aria-describedby='Сообщение' and @aria-placeholder='Напишите сообщение…']\",\n",
    "#         delay=2,\n",
    "#         attempts=2,\n",
    "#         is_error=False\n",
    "#     )\n",
    "#     if send_message_field_element:\n",
    "#         send_message_field_element.clear()\n",
    "#         message = random.choice(messages)\n",
    "        \n",
    "#         ActionChains(driver).move_to_element(send_message_field_element).click().send_keys(message).perform()\n",
    "#         send_message_field_element.send_keys(Keys.ENTER)"
   ]
  },
  {
   "cell_type": "code",
   "execution_count": 5,
   "metadata": {},
   "outputs": [
    {
     "data": {
      "text/plain": [
       "'Подписаться'"
      ]
     },
     "execution_count": 5,
     "metadata": {},
     "output_type": "execute_result"
    }
   ],
   "source": [
    "follow_button.text"
   ]
  },
  {
   "cell_type": "code",
   "execution_count": null,
   "metadata": {},
   "outputs": [],
   "source": []
  },
  {
   "cell_type": "code",
   "execution_count": null,
   "metadata": {},
   "outputs": [],
   "source": []
  },
  {
   "cell_type": "markdown",
   "metadata": {},
   "source": [
    "### АВТОРИЗАЦИЯ"
   ]
  },
  {
   "cell_type": "code",
   "execution_count": 4,
   "metadata": {},
   "outputs": [],
   "source": [
    "###################\n",
    "### Авторизация ###\n",
    "###################\n",
    "def auth(driver: webdriver, username: str, password: str):\n",
    "    username = 'odintsovmaxim4@gmail.com'\n",
    "    password = 'password1923DF!'\n",
    "    open_link(driver=driver, link=\"https://www.instagram.com/\")\n",
    "    username_element = get_wait_element(\n",
    "        driver=driver, \n",
    "        by=By.NAME, \n",
    "        searched_elem='username',\n",
    "        delay=5,\n",
    "    )\n",
    "    username_element.send_keys(username)\n",
    "\n",
    "    password_element = get_wait_element(\n",
    "        driver=driver, \n",
    "        by=By.NAME, \n",
    "        searched_elem='password',\n",
    "        delay=5,\n",
    "    )\n",
    "    password_element.send_keys(password)\n",
    "\n",
    "    enter_element = get_wait_element(\n",
    "        driver=driver, \n",
    "        by=By.XPATH, \n",
    "        searched_elem='/html/body/div[2]/div/div/div[2]/div/div/div[1]/div[1]/div/section/main/article/div[2]/div[1]/div[2]/div/form/div/div[3]/button/div',\n",
    "        delay=5,\n",
    "    )\n",
    "    enter_element.click()\n",
    "    time.sleep(5)\n",
    "    return True"
   ]
  },
  {
   "cell_type": "markdown",
   "metadata": {},
   "source": [
    "### Парсинг ссылок на посты"
   ]
  },
  {
   "cell_type": "code",
   "execution_count": 4,
   "metadata": {},
   "outputs": [],
   "source": [
    "###############################\n",
    "### Парсинг ссылок на посты ###\n",
    "###############################\n",
    "def turn_to_posts_page(driver: webdriver, query: str):\n",
    "    \"\"\"\n",
    "    Переход на страницу с постами\n",
    "    \"\"\"\n",
    "    link = f'https://www.instagram.com/explore/search/keyword/?q={query}'\n",
    "    open_link(driver=driver, link=link)\n",
    "    \n",
    "\n",
    "def get_post_links(driver: webdriver, wait_time: int = 5, max_scrolls: int = 10) -> set:\n",
    "    \"\"\"\n",
    "    Скроллинг страниц и поиск ссылок\n",
    "    \"\"\"\n",
    "    last_height = driver.execute_script(\"return document.body.scrollHeight\")\n",
    "    post_links = set()\n",
    "    max_scrolls += 1\n",
    "    for i in range(1, max_scrolls):\n",
    "        # Скролл страницы\n",
    "        driver.execute_script(\"window.scrollTo(0, document.body.scrollHeight);\")\n",
    "        time.sleep(wait_time)\n",
    "        \n",
    "        # Получение ссылок\n",
    "        if i % 2 == 0 or i == max_scrolls-1:\n",
    "            posts_parent_elelemt = get_wait_element(driver=driver, by=By.XPATH, searched_elem='/html/body/div[2]/div/div/div[2]/div/div/div[1]/div[1]/div[1]/section/main/div/div[2]')\n",
    "            new_links = get_links(parent_element=posts_parent_elelemt)\n",
    "            print(f'Найдены новые ссылки на посты: {new_links}')\n",
    "            post_links.update(new_links)\n",
    "            \n",
    "        # Проверка конца страницы\n",
    "        new_height = driver.execute_script(\"return document.body.scrollHeight\")\n",
    "        if new_height == last_height:\n",
    "            break\n",
    "        last_height = new_height\n",
    "    return post_links"
   ]
  },
  {
   "cell_type": "markdown",
   "metadata": {},
   "source": [
    "### Парсинг ссылок на аккаунты"
   ]
  },
  {
   "cell_type": "code",
   "execution_count": 5,
   "metadata": {},
   "outputs": [],
   "source": [
    "##################################\n",
    "### Парсинг ссылок на аккаунты ###\n",
    "##################################\n",
    "def accounts_parsing(driver: webdriver, post_link: str) -> list:\n",
    "    \"\"\"\n",
    "    Функция для парсинга аккаунтов из поста\n",
    "    \"\"\"\n",
    "    find_links = False\n",
    "    open_link(driver=driver, link=post_link)\n",
    "    \n",
    "    # Поиск одного аккаунта в посте\n",
    "    accounts_parent = get_wait_element(\n",
    "        driver=driver, \n",
    "        by=By.XPATH, \n",
    "        searched_elem='/html/body/div[2]/div/div/div[2]/div/div/div[1]/div[1]/div[1]/section/main/div/div[1]/div/div[2]/div/div[1]/div/div[2]/div/div[1]/div[1]/div/div/div/span/span',\n",
    "        delay=5,\n",
    "        attempts=1,\n",
    "        is_error=False\n",
    "    )\n",
    "    if accounts_parent:\n",
    "        print('Найдено в \"Поиск одного аккаунта в посте\"')\n",
    "        find_links = True\n",
    "        \n",
    "    # Поиск \"ещё\" в указанных аккаунтах поста\n",
    "    if find_links is False:\n",
    "        modal_accounts_element = get_wait_element(\n",
    "            driver=driver, \n",
    "            by=By.XPATH, \n",
    "            searched_elem='/html/body/div[2]/div/div/div[2]/div/div/div[1]/div[1]/div[1]/section/main/div/div[1]/div/div[2]/div/div[1]/div/div[2]/div/div[1]/div/div/div/span/span[2]/a/span',\n",
    "            delay=2,\n",
    "            attempts=1,\n",
    "            is_error=False\n",
    "        )\n",
    "        if modal_accounts_element and 'ещё' in modal_accounts_element.text:\n",
    "            modal_accounts_element.click()  # Открытие модального окна с ссылками на аккаунты\n",
    "            accounts_parent = get_wait_element(\n",
    "                driver=driver, \n",
    "                by=By.XPATH, \n",
    "                searched_elem='/html/body/div[6]/div[1]/div/div[2]/div/div/div',\n",
    "                sleep=1,\n",
    "                delay=5,\n",
    "                attempts=1,\n",
    "                is_error=False\n",
    "            )\n",
    "            if accounts_parent:\n",
    "                print('Найдено в \"Поиск \"ещё\" в указанных аккаунтах поста\"')\n",
    "                find_links = True\n",
    "    \n",
    "    # Поиск двух указанных аккаунтов в посте\n",
    "    if find_links is False:\n",
    "        accounts_parent = get_wait_element(\n",
    "            driver=driver, \n",
    "            by=By.XPATH, \n",
    "            searched_elem='/html/body/div[2]/div/div/div[2]/div/div/div[1]/div[1]/div[1]/section/main/div/div[1]/div/div[2]/div/div[1]/div/div[2]/div/div[1]/div/div/div',\n",
    "            delay=2,\n",
    "            attempts=1,\n",
    "            is_error=False\n",
    "        )\n",
    "        if accounts_parent:\n",
    "            print('Найдено в \"Поиск двух указанных аккаунтов в посте\"')\n",
    "            find_links = True\n",
    "    \n",
    "    # Поиск ссылок на аккаунты из родительского элемента\n",
    "    if find_links is True:\n",
    "        account_link = get_links(accounts_parent)\n",
    "        print(f'Найдены ссылки: {account_link}')\n",
    "        return account_link"
   ]
  },
  {
   "cell_type": "markdown",
   "metadata": {},
   "source": [
    "### Парсинг страничек"
   ]
  },
  {
   "cell_type": "code",
   "execution_count": 6,
   "metadata": {},
   "outputs": [],
   "source": [
    "######################################\n",
    "### Парсинг информации об аккаунте ###\n",
    "######################################\n",
    "def parsing_account_info(driver: webdriver, account_link: str) -> dict:\n",
    "    \"\"\"\n",
    "    Парсинг основной информации об аккаунте\n",
    "    \"\"\"\n",
    "    driver.get(account_link)\n",
    "    time.sleep(3)\n",
    "    \n",
    "    links = set()\n",
    "    all_description = None\n",
    "    activity_attrs = {}\n",
    "    \n",
    "    #################################\n",
    "    ### Парсинг описания аккаунта ###\n",
    "    #################################\n",
    "    account_description_parent_element = get_wait_element(  # Элемент со всей указанной информацией об аккаунте\n",
    "        driver=driver,\n",
    "        by=By.XPATH,\n",
    "        searched_elem='/html/body/div[2]/div/div/div[2]/div/div/div[1]/div[2]/div/div[1]/section/main/div/header/section[4]',\n",
    "        delay=3,\n",
    "        attempts=1,\n",
    "        is_error=False\n",
    "    )\n",
    "    if account_description_parent_element:\n",
    "        # Парсинг описания аккаунта\n",
    "        all_description = account_description_parent_element.text\n",
    "        \n",
    "        # Парсинг ссылок\n",
    "        # Из описания аккаунта\n",
    "        find_links_description = get_links(account_description_parent_element)\n",
    "        links.update([extract_original_link(find_link_description) for find_link_description in find_links_description])\n",
    "        # Из указанных контактов\n",
    "        account_links_button_element = get_wait_element(  # Кнопка для перехода в указанные контакты\n",
    "            driver=account_description_parent_element,\n",
    "            by=By.TAG_NAME,\n",
    "            searched_elem='button',\n",
    "            delay=3,\n",
    "            attempts=1,\n",
    "            is_error=False\n",
    "        )\n",
    "        if account_links_button_element:\n",
    "            account_links_button_element.click()  # Открытие модального окна с указанными ссылками\n",
    "            link_parent_element = get_wait_element(  # Модальное окно с указанными ссылками\n",
    "                driver=driver, \n",
    "                by=By.XPATH, \n",
    "                searched_elem='/html/body/div[6]/div[1]/div/div[2]/div/div/div/div',\n",
    "                delay=4,\n",
    "                attempts=1,\n",
    "                sleep=2,\n",
    "                is_error=False\n",
    "            )\n",
    "            \n",
    "            find_links_modal = get_links(link_parent_element)\n",
    "            links.update([extract_original_link(find_link_modal) for find_link_modal in find_links_modal])\n",
    "    print(f'\\n___________________\\nСсылка на аккаунт: {account_link}\\nall_description: {all_description}\\nСсылки: {links}')\n",
    "\n",
    "    ###################################\n",
    "    ### Парсинг активности аккаунта ###\n",
    "    ###################################\n",
    "    activity_account_parent_element = get_wait_element(  # Родительский элемент с кол-вом постов, подписчиков и подписок\n",
    "        driver=driver, \n",
    "        by=By.XPATH, \n",
    "        searched_elem='/html/body/div[2]/div/div/div[2]/div/div/div[1]/div[2]/div/div[1]/section/main/div/header/section[3]',\n",
    "        delay=3,\n",
    "        attempts=1,\n",
    "        is_error=False\n",
    "    )\n",
    "    if activity_account_parent_element:\n",
    "        activity_account_attributes_elements = get_wait_elements(  # Родительский элемент с кол-вом постов, подписчиков и подписок\n",
    "            driver=activity_account_parent_element, \n",
    "            by=By.TAG_NAME, \n",
    "            searched_elem='li',\n",
    "            delay=3,\n",
    "            attempts=1,\n",
    "            is_error=False\n",
    "        )\n",
    "        if activity_account_attributes_elements:\n",
    "            activity_list = [activity_account_attributes_element.text for activity_account_attributes_element in activity_account_attributes_elements]\n",
    "            activity_attrs = parse_activity_data(activity_list)\n",
    "            print(f'Найдены атрибуты активности: {activity_attrs}')\n",
    "\n",
    "    account_info = {'account_link': account_link, 'all_description': all_description, 'links': list(links)} | activity_attrs\n",
    "    return account_info"
   ]
  },
  {
   "cell_type": "markdown",
   "metadata": {},
   "source": [
    "### Просмотр и запись данных"
   ]
  },
  {
   "cell_type": "markdown",
   "metadata": {},
   "source": [
    "### Запуск робота"
   ]
  },
  {
   "cell_type": "code",
   "execution_count": null,
   "metadata": {},
   "outputs": [],
   "source": [
    "async def run(post_query: str, max_scrolls: int = 2):\n",
    "    with open('data/time.txt', 'a') as f:\n",
    "        f.write(f'\\n\\nКол-во скроллов страницы для поиска постов: \"{max_scrolls}\"\\nНачало обработки: \"{datetime.now()}\"')\n",
    "    # Запуск драйвера\n",
    "    driver = start_driver()\n",
    "    \n",
    "    # Авториация\n",
    "    auth(driver=driver, username=config.USERNAME, password=config.PASSWORD)\n",
    "    \n",
    "    # Парсинг ссылок на посты\n",
    "    turn_to_posts_page(driver=driver, query=post_query)\n",
    "    post_links = get_post_links(driver, max_scrolls=max_scrolls)\n",
    "    post_links = list(post_links)\n",
    "    print(f\"Найдено {len(post_links)} ссылок на посты\")\n",
    "    \n",
    "    # Парсинг ссылок на аккаунты\n",
    "    account_links = set()\n",
    "    for post_link in post_links:\n",
    "        account_link = accounts_parsing(driver=driver, post_link=post_link)\n",
    "        account_links.update(account_link)\n",
    "    account_links = list(account_links)\n",
    "    print(f\"Найдено {len(account_links)} ссылок на аккаунты\")\n",
    "    \n",
    "    # Парсинг страничек\n",
    "    for idx, account_link in enumerate(account_links):\n",
    "        print(f'Парсинг акканута #{idx}...')\n",
    "        account_data = parsing_account_info(driver=driver, account_link=account_link)\n",
    "        account_data['hashtag'] = post_query.replace('%23r', '#')\n",
    "        \n",
    "        insert_new_account(\n",
    "            async_session=async_session, \n",
    "            account_link=account_link,\n",
    "            account_data=account_data\n",
    "        )\n",
    "    print(f'Информация об аккаунтах спарсилась и записалась в БД.')\n",
    "    \n",
    "    close_driver(driver=driver)\n",
    "    with open('data/time.txt', 'a') as f:\n",
    "        f.write(f'\\nКонец обработки: \"{datetime.now()}\"')\n",
    "    \n",
    "    \n",
    "asyncio.run(run(post_query=config.QUERY, max_scrolls=1))  # '%23r' == '#'"
   ]
  },
  {
   "cell_type": "code",
   "execution_count": null,
   "metadata": {},
   "outputs": [],
   "source": []
  },
  {
   "cell_type": "code",
   "execution_count": 9,
   "metadata": {},
   "outputs": [
    {
     "name": "stdout",
     "output_type": "stream",
     "text": [
      "[]\n"
     ]
    }
   ],
   "source": [
    "import re\n",
    "\n",
    "def extract_emails(text: str) -> list:\n",
    "    \"\"\"\n",
    "    Извлекает email-адреса из текста.\n",
    "\n",
    "    :param text: Строка, содержащая текст для анализа.\n",
    "    :return: Список найденных email-адресов.\n",
    "    \"\"\"\n",
    "    email_pattern = r'[\\w._%+-]+@[\\w.-]+\\.[a-zA-Z]{2,}'\n",
    "    return re.findall(email_pattern, text)\n",
    "\n",
    "# Пример использования\n",
    "text = \"\"\"Get Back\n",
    "gettbakk1\n",
    "Деятель искусств\n",
    "B.T.D🎡 Yu Play Yu Lay🧗🏽B.T.A erytime we collide🦨#FreeTrap🦕🙎🏽 “All Good” & “Bully” Out Now❗️⬇️⬇️\n",
    "linktr.ee/getbackk\"\"\"\n",
    "\n",
    "emails = extract_emails(text)\n",
    "print(emails)\n"
   ]
  },
  {
   "cell_type": "code",
   "execution_count": null,
   "metadata": {},
   "outputs": [],
   "source": []
  },
  {
   "cell_type": "code",
   "execution_count": null,
   "metadata": {},
   "outputs": [],
   "source": []
  },
  {
   "cell_type": "code",
   "execution_count": null,
   "metadata": {},
   "outputs": [],
   "source": [
    "driver = start_driver()\n",
    "\n",
    "###############\n",
    "# Авторизация #\n",
    "###############\n",
    "auth(driver=driver, username='odintsovmaxim4@gmail.com', password='password1923DF!')\n",
    "\n",
    "###########################\n",
    "# Парсинг ссылок на посты #\n",
    "###########################\n",
    "MAX_SCROLLS = 1\n",
    "turn_to_posts_page(driver=driver, query='%23upcomingrapper') # '%23r' == '#'\n",
    "post_links = get_post_links(driver, max_scrolls=MAX_SCROLLS)\n",
    "post_links = list(post_links)\n",
    "print(f\"Найдено {len(post_links)} ссылок на посты\")\n",
    "\n",
    "##############################\n",
    "# Парсинг ссылок на аккаунты #\n",
    "##############################\n",
    "account_links = set()\n",
    "for post_link in post_links:\n",
    "    account_link = accounts_parsing(driver=driver, post_link=post_link)\n",
    "    account_links.update(account_link)\n",
    "account_links = list(account_links)\n",
    "print(f\"Найдено {len(account_links)} ссылок на аккаунты\")\n",
    "\n",
    "#####################\n",
    "# Парсинг страничек #\n",
    "#####################\n",
    "\n",
    "accounts_info_list = []\n",
    "links_len = len(account_links)\n",
    "for idx, account_link in enumerate(account_links):\n",
    "# for idx, account_link in enumerate(['https://www.instagram.com/landedabuggout/']):\n",
    "    print(f'Парсинг акканута #{idx}...\\tВсего аккаунтов: {links_len}')\n",
    "    accounts_info = parsing_account_info(driver=driver, account_link=account_link)\n",
    "    accounts_info_list.append(accounts_info)\n",
    "print(f'Спарсилась информация о {len(accounts_info_list)} аккаунтах.')\n",
    "\n",
    "#################\n",
    "# Запись данных #\n",
    "#################\n",
    "\n",
    "# Запись в json\n",
    "with open('data/data.json', 'w') as f:\n",
    "    data = json.dump(accounts_info_list, indent=4, ensure_ascii=False, fp=f)\n",
    "    \n",
    "# Запись в таблицу\n",
    "pyxl = PyXLWriter(colors=2)\n",
    "# Хедеры\n",
    "pyxl[1, 1] = \"Ссылка на аккаунт\"\n",
    "pyxl[1, 2] = \"Описание страницы\"\n",
    "pyxl[1, 3] = \"Ссылки из контактов\"\n",
    "pyxl[1, 4] = \"Кол-во постов\"\n",
    "pyxl[1, 5] = \"Кол-во подписчиков\"\n",
    "pyxl[1, 6] = \"Кол-во подписок\"\n",
    "# Данные\n",
    "for rid, account_item in enumerate(accounts_info_list):\n",
    "    r = rid + 2\n",
    "    pyxl[r, 1] = account_item.get('account_link')\n",
    "    pyxl[r, 2] = account_item.get('all_description')\n",
    "    pyxl[r, 3] = \"\\n------------------------------\\n\".join(account_item.get('links'))\n",
    "    pyxl[r, 4] = str(account_item.get('posts'))\n",
    "    pyxl[r, 5] = str(account_item.get('subscribers'))\n",
    "    pyxl[r, 6] = str(account_item.get('subscriptions'))\n",
    "pyxl.save(\"data/instagram_data.xlsx\")\n",
    "\n"
   ]
  },
  {
   "cell_type": "code",
   "execution_count": null,
   "metadata": {},
   "outputs": [
    {
     "data": {
      "text/plain": [
       "True"
      ]
     },
     "execution_count": 2,
     "metadata": {},
     "output_type": "execute_result"
    }
   ],
   "source": [
    "driver = start_driver()\n",
    "auth(driver=driver, username='odintsovmaxim4@gmail.com', password='password1923DF!')\n",
    "open_link(driver=driver, link='https://www.instagram.com/wifimoneymotivated/')\n",
    "\n",
    "# Подписка + сообщение\n",
    "follow_button = get_wait_element(\n",
    "    driver=driver, \n",
    "    by=By.XPATH, \n",
    "    searched_elem=\".//div[contains(text(), 'Подписаться')]\",\n",
    "    delay=2,\n",
    "    attempts=2,\n",
    "    is_error=False\n",
    ")\n",
    "send_message_button = get_wait_element(\n",
    "    driver=driver, \n",
    "    by=By.XPATH, \n",
    "    searched_elem=\".//div[@role='button' and contains(text(), 'Отправить сообщение')]\",\n",
    "    delay=2,\n",
    "    attempts=2,\n",
    "    is_error=False\n",
    ")\n",
    "\n",
    "if follow_button:\n",
    "    follow_button.click()\n",
    "    time.sleep(1)\n",
    "    \n",
    "if send_message_button:\n",
    "    send_message_button.click()\n",
    "\n",
    "\n",
    "import random\n",
    "from selenium.webdriver.common.action_chains import ActionChains\n",
    "from selenium.webdriver.common.keys import Keys\n",
    "\n",
    "import json\n",
    "with open(config.MESSAGE_TEMPLATES_PATH, \"r\", encoding=\"utf-8\") as file:\n",
    "    messages = json.load(file)\n",
    "\n",
    "if send_message_button:\n",
    "    send_message_field_element = get_wait_element(\n",
    "        driver=driver, \n",
    "        by=By.XPATH, \n",
    "        searched_elem=\".//div[@role='textbox' and @aria-describedby='Сообщение' and @aria-placeholder='Напишите сообщение…']\",\n",
    "        delay=2,\n",
    "        attempts=2,\n",
    "        is_error=False\n",
    "    )\n",
    "    if send_message_field_element:\n",
    "        send_message_field_element.clear()\n",
    "        message = random.choice(messages)\n",
    "        \n",
    "        ActionChains(driver).move_to_element(send_message_field_element).click().send_keys(message).perform()\n",
    "        send_message_field_element.send_keys(Keys.ENTER)"
   ]
  },
  {
   "cell_type": "code",
   "execution_count": 5,
   "metadata": {},
   "outputs": [],
   "source": [
    "open_link(driver=driver, link='https://www.instagram.com/wifimoneymotivated/')\n",
    "# Модальное окно \"Включить уведомления?\"\n",
    "notification_button = get_wait_element(\n",
    "    driver=driver,\n",
    "    by=By.XPATH,\n",
    "    searched_elem=\"//button[text()='Не сейчас']\",\n",
    "    delay=3,\n",
    "    logs=False,\n",
    "    is_error=False,\n",
    "    attempts=1\n",
    ")\n",
    "if notification_button:\n",
    "    notification_button.click()    "
   ]
  },
  {
   "cell_type": "code",
   "execution_count": 25,
   "metadata": {},
   "outputs": [],
   "source": [
    "button = driver.find_element(By.CSS_SELECTOR, \"div[role='button'] svg[aria-label='Новое сообщение']\")\n",
    "button.click()\n"
   ]
  },
  {
   "cell_type": "code",
   "execution_count": null,
   "metadata": {},
   "outputs": [],
   "source": []
  },
  {
   "cell_type": "code",
   "execution_count": null,
   "metadata": {},
   "outputs": [],
   "source": []
  },
  {
   "cell_type": "code",
   "execution_count": null,
   "metadata": {},
   "outputs": [],
   "source": []
  },
  {
   "cell_type": "code",
   "execution_count": 16,
   "metadata": {},
   "outputs": [],
   "source": [
    "# Подписка + сообщение\n",
    "\n",
    "follow_button = get_wait_element(\n",
    "    driver=driver, \n",
    "    by=By.XPATH, \n",
    "    searched_elem=\".//div[contains(text(), 'Подписаться')]\",\n",
    "    delay=2,\n",
    "    attempts=2,\n",
    "    is_error=False\n",
    ")\n",
    "send_message_button = get_wait_element(\n",
    "    driver=driver, \n",
    "    by=By.XPATH, \n",
    "    searched_elem=\".//div[@role='button' and contains(text(), 'Отправить сообщение')]\",\n",
    "    delay=2,\n",
    "    attempts=2,\n",
    "    is_error=False\n",
    ")\n",
    "\n",
    "if follow_button:\n",
    "    follow_button.click()\n",
    "    time.sleep(1)\n",
    "    \n",
    "if send_message_button:\n",
    "    send_message_button.click()"
   ]
  },
  {
   "cell_type": "code",
   "execution_count": 23,
   "metadata": {},
   "outputs": [],
   "source": [
    "# Написать сообщение\n",
    "from selenium.webdriver.common.action_chains import ActionChains\n",
    "from selenium.webdriver.common.keys import Keys\n",
    "\n",
    "if send_message_button:\n",
    "    send_message_field_element = get_wait_element(\n",
    "        driver=driver, \n",
    "        by=By.XPATH, \n",
    "        searched_elem=\".//div[@role='textbox' and @aria-describedby='Сообщение' and @aria-placeholder='Напишите сообщение…']\",\n",
    "        delay=2,\n",
    "        attempts=2,\n",
    "        is_error=False\n",
    "    )\n",
    "    if send_message_field_element:\n",
    "        message = 'Yo, your music caught my ear—serious talent right there! 🔥 I’m a producer, and I think we could create something next-level together. You open to hearing some beats?'\n",
    "        send_message_field_element.clear()\n",
    "        \n",
    "        \n",
    "        ActionChains(driver).move_to_element(send_message_field_element).click().send_keys(message).perform()\n",
    "        send_message_field_element.send_keys(Keys.ENTER)\n"
   ]
  },
  {
   "cell_type": "code",
   "execution_count": null,
   "metadata": {},
   "outputs": [],
   "source": []
  },
  {
   "cell_type": "code",
   "execution_count": null,
   "metadata": {},
   "outputs": [],
   "source": []
  },
  {
   "cell_type": "code",
   "execution_count": null,
   "metadata": {},
   "outputs": [],
   "source": []
  },
  {
   "cell_type": "code",
   "execution_count": null,
   "metadata": {},
   "outputs": [],
   "source": []
  },
  {
   "cell_type": "code",
   "execution_count": 5,
   "metadata": {},
   "outputs": [
    {
     "ename": "Exception",
     "evalue": "Элементы \"//div[@type=\"button\"]\" не найдены.",
     "output_type": "error",
     "traceback": [
      "\u001b[0;31m---------------------------------------------------------------------------\u001b[0m",
      "\u001b[0;31mException\u001b[0m                                 Traceback (most recent call last)",
      "Cell \u001b[0;32mIn[5], line 1\u001b[0m\n\u001b[0;32m----> 1\u001b[0m elems \u001b[38;5;241m=\u001b[39m \u001b[43mget_wait_elements\u001b[49m\u001b[43m(\u001b[49m\u001b[43mdriver\u001b[49m\u001b[38;5;241;43m=\u001b[39;49m\u001b[43mparrent\u001b[49m\u001b[43m,\u001b[49m\u001b[43m \u001b[49m\u001b[43mby\u001b[49m\u001b[38;5;241;43m=\u001b[39;49m\u001b[43mBy\u001b[49m\u001b[38;5;241;43m.\u001b[39;49m\u001b[43mXPATH\u001b[49m\u001b[43m,\u001b[49m\u001b[43m \u001b[49m\u001b[43msearched_elem\u001b[49m\u001b[38;5;241;43m=\u001b[39;49m\u001b[38;5;124;43m'\u001b[39;49m\u001b[38;5;124;43m//div[@type=\u001b[39;49m\u001b[38;5;124;43m\"\u001b[39;49m\u001b[38;5;124;43mbutton\u001b[39;49m\u001b[38;5;124;43m\"\u001b[39;49m\u001b[38;5;124;43m]\u001b[39;49m\u001b[38;5;124;43m'\u001b[39;49m\u001b[43m)\u001b[49m\n\u001b[1;32m      3\u001b[0m \u001b[38;5;28;01mfor\u001b[39;00m elem \u001b[38;5;129;01min\u001b[39;00m elems:\n\u001b[1;32m      4\u001b[0m     \u001b[38;5;28mprint\u001b[39m(elem\u001b[38;5;241m.\u001b[39mtext)\n",
      "File \u001b[0;32m~/PycharmProjects/InstaParser/helpers/selenium_management.py:78\u001b[0m, in \u001b[0;36mget_wait_elements\u001b[0;34m(driver, by, searched_elem, delay, attempts, sleep, is_error, logs)\u001b[0m\n\u001b[1;32m     76\u001b[0m \u001b[38;5;28;01melse\u001b[39;00m:\n\u001b[1;32m     77\u001b[0m     \u001b[38;5;28;01mif\u001b[39;00m is_error:\n\u001b[0;32m---> 78\u001b[0m         \u001b[38;5;28;01mraise\u001b[39;00m \u001b[38;5;167;01mException\u001b[39;00m(\u001b[38;5;124mf\u001b[39m\u001b[38;5;124m'\u001b[39m\u001b[38;5;124mЭлементы \u001b[39m\u001b[38;5;124m\"\u001b[39m\u001b[38;5;132;01m{\u001b[39;00msearched_elem\u001b[38;5;132;01m}\u001b[39;00m\u001b[38;5;124m\"\u001b[39m\u001b[38;5;124m не найдены.\u001b[39m\u001b[38;5;124m'\u001b[39m)\n\u001b[1;32m     79\u001b[0m     \u001b[38;5;28;01melse\u001b[39;00m:\n\u001b[1;32m     80\u001b[0m         \u001b[38;5;28;01mreturn\u001b[39;00m []\n",
      "\u001b[0;31mException\u001b[0m: Элементы \"//div[@type=\"button\"]\" не найдены."
     ]
    }
   ],
   "source": [
    "elems = get_wait_elements(driver=parrent, by=By.XPATH, searched_elem='/div')\n",
    "\n",
    "for elem in elems:\n",
    "    href = link_element.get_attribute(\"href\")\n",
    "    if href:\n",
    "        link_list.append(href)\n",
    "    print(elem.text)"
   ]
  },
  {
   "cell_type": "code",
   "execution_count": null,
   "metadata": {},
   "outputs": [],
   "source": []
  },
  {
   "cell_type": "code",
   "execution_count": null,
   "metadata": {},
   "outputs": [],
   "source": []
  },
  {
   "cell_type": "code",
   "execution_count": null,
   "metadata": {},
   "outputs": [
    {
     "name": "stdout",
     "output_type": "stream",
     "text": [
      "\n",
      "___________________\n",
      "Ссылка на аккаунт: https://www.instagram.com/the_real_journeyman/\n",
      "description: Alfredo Perez\n",
      "the_real_journeyman\n",
      "Деятель искусств\n",
      "Aka FreedomX. Love, Peace, and Pasteles! 🪶🇵🇷🇨🇩🇸🇳🇮🇹🇳🇬🇫🇷🇺🇸\n",
      "music.apple.com/us/album/message-in-a-bottle-single/1671054880 + 4\n",
      "Ссылки из описания: {'https://www.threads.net/@the_real_journeyman?xmt=AQGzknUJxizlsNOIJndtrdpnQ3kNkyBUWW5NTl0vTkE2fys'}\n",
      "Ссылки из контактов: set()\n",
      "Найдены атрибуты активности: {'posts': 132, 'subscribers': 15600, 'subscriptions': 5017}\n"
     ]
    },
    {
     "ename": "NameError",
     "evalue": "name 'extract_emails' is not defined",
     "output_type": "error",
     "traceback": [
      "\u001b[0;31m---------------------------------------------------------------------------\u001b[0m",
      "\u001b[0;31mNameError\u001b[0m                                 Traceback (most recent call last)",
      "Cell \u001b[0;32mIn[8], line 4\u001b[0m\n\u001b[1;32m      1\u001b[0m link \u001b[38;5;241m=\u001b[39m \u001b[38;5;124m'\u001b[39m\u001b[38;5;124mhttps://www.instagram.com/the_real_journeyman/\u001b[39m\u001b[38;5;124m'\u001b[39m\n\u001b[1;32m      3\u001b[0m account_data \u001b[38;5;241m=\u001b[39m parsing_account_info(driver\u001b[38;5;241m=\u001b[39mdriver, account_link\u001b[38;5;241m=\u001b[39mlink)\n\u001b[0;32m----> 4\u001b[0m account_data[\u001b[38;5;124m'\u001b[39m\u001b[38;5;124memails\u001b[39m\u001b[38;5;124m'\u001b[39m] \u001b[38;5;241m=\u001b[39m \u001b[43mextract_emails\u001b[49m(account_data\u001b[38;5;241m.\u001b[39mget(\u001b[38;5;124m'\u001b[39m\u001b[38;5;124mdescription\u001b[39m\u001b[38;5;124m'\u001b[39m, \u001b[38;5;124m'\u001b[39m\u001b[38;5;124m'\u001b[39m))\n\u001b[1;32m      5\u001b[0m account_data\n",
      "\u001b[0;31mNameError\u001b[0m: name 'extract_emails' is not defined"
     ]
    }
   ],
   "source": [
    "link = 'https://www.instagram.com/the_real_journeyman/'\n",
    "\n",
    "account_data = parsing_account_info(driver=driver, account_link=link)\n",
    "account_data"
   ]
  },
  {
   "cell_type": "code",
   "execution_count": 9,
   "metadata": {},
   "outputs": [
    {
     "data": {
      "text/plain": [
       "{'description': 'Alfredo Perez\\nthe_real_journeyman\\nДеятель искусств\\nAka FreedomX. Love, Peace, and Pasteles! 🪶🇵🇷🇨🇩🇸🇳🇮🇹🇳🇬🇫🇷🇺🇸\\nmusic.apple.com/us/album/message-in-a-bottle-single/1671054880 + 4',\n",
       " 'links_contacts': [],\n",
       " 'links_description': ['https://www.threads.net/@the_real_journeyman?xmt=AQGzknUJxizlsNOIJndtrdpnQ3kNkyBUWW5NTl0vTkE2fys'],\n",
       " 'posts': 132,\n",
       " 'subscribers': 15600,\n",
       " 'subscriptions': 5017}"
      ]
     },
     "execution_count": 9,
     "metadata": {},
     "output_type": "execute_result"
    }
   ],
   "source": [
    "account_data"
   ]
  },
  {
   "cell_type": "code",
   "execution_count": 6,
   "metadata": {},
   "outputs": [],
   "source": [
    "######################################\n",
    "### Парсинг информации об аккаунте ###\n",
    "######################################\n",
    "def parsing_account_info(driver: webdriver, account_link: str) -> dict:\n",
    "    \"\"\"\n",
    "    Парсинг основной информации об аккаунте\n",
    "    \"\"\"\n",
    "    driver.get(account_link)\n",
    "    time.sleep(3)\n",
    "    \n",
    "    links_contacts = set()\n",
    "    links_description = set()\n",
    "    description = None\n",
    "    activity_attrs = {}\n",
    "\n",
    "    # Парсинг описания аккаунта\n",
    "    account_description_parent_element = get_wait_element(  # Элемент со всей указанной информацией об аккаунте\n",
    "        driver=driver,\n",
    "        by=By.XPATH,\n",
    "        searched_elem='/html/body/div[2]/div/div/div[2]/div/div/div[1]/div[2]/div/div[1]/section/main/div/header/section[4]',\n",
    "        delay=3,\n",
    "        attempts=1,\n",
    "        is_error=False\n",
    "    )\n",
    "    desctiption_span_elements = get_wait_elements(  # Элементы span из описания аккаунта\\n\",\n",
    "        driver=account_description_parent_element,\n",
    "        by=By.TAG_NAME,\n",
    "        searched_elem='span',\n",
    "        delay=3,\n",
    "        attempts=1,\n",
    "        is_error=False\n",
    "    )\n",
    "    for desctiption_span_element in desctiption_span_elements:  # Нажимаем на кнопку \"ещё\" (раскрываем описание)\n",
    "        if 'ещё' == desctiption_span_element.text:\n",
    "            desctiption_span_element.click()\n",
    "\n",
    "    if account_description_parent_element:\n",
    "        # Парсинг описания аккаунта\n",
    "        description = account_description_parent_element.text\n",
    "        \n",
    "        # Парсинг ссылок из описания аккаунта\n",
    "        find_links_description = get_links(account_description_parent_element)\n",
    "        links_description.update([extract_original_link(find_link_description) for find_link_description in find_links_description])\n",
    "\n",
    "        # Парсинг ссылок из окна контактов\n",
    "        account_links_button_element = get_wait_element(  # Кнопка для перехода в указанные контакты\n",
    "            driver=account_description_parent_element,\n",
    "            by=By.TAG_NAME,\n",
    "            searched_elem='button',\n",
    "            delay=3,\n",
    "            attempts=1,\n",
    "            is_error=False\n",
    "        )\n",
    "        if account_links_button_element:\n",
    "            account_links_button_element.click()  # Открытие модального окна с указанными ссылками\n",
    "            link_parent_element = get_wait_element(  # Модальное окно с указанными ссылками\n",
    "                driver=driver, \n",
    "                by=By.XPATH, \n",
    "                searched_elem='/html/body/div[6]/div[1]/div/div[2]/div/div/div',\n",
    "                delay=3,\n",
    "                attempts=1,\n",
    "                sleep=1,\n",
    "                is_error=False\n",
    "            )\n",
    "            if not link_parent_element:\n",
    "                link_parent_element = get_wait_element(  # Модальное окно с указанными ссылками\n",
    "                driver=driver, \n",
    "                by=By.XPATH, \n",
    "                searched_elem='/html/body/div[5]/div[1]/div/div[2]/div/div/div',\n",
    "                delay=3,\n",
    "                attempts=1,\n",
    "                sleep=1,\n",
    "                is_error=False\n",
    "            )\n",
    "            \n",
    "            find_links_modal = get_links(link_parent_element)\n",
    "            links_contacts.update([extract_original_link(find_link_modal) for find_link_modal in find_links_modal])\n",
    "    print(f'\\n___________________\\nСсылка на аккаунт: {account_link}\\ndescription: {description}\\n'\n",
    "          f'Ссылки из описания: {links_description}\\nСсылки из контактов: {links_contacts}')\n",
    "\n",
    "    # Парсинг активности аккаунта\n",
    "    activity_account_parent_element = get_wait_element(  # Родительский элемент с кол-вом постов, подписчиков и подписок\n",
    "        driver=driver, \n",
    "        by=By.XPATH, \n",
    "        searched_elem='/html/body/div[2]/div/div/div[2]/div/div/div[1]/div[2]/div/div[1]/section/main/div/header/section[3]',\n",
    "        delay=3,\n",
    "        attempts=1,\n",
    "        is_error=False\n",
    "    )\n",
    "    if activity_account_parent_element:\n",
    "        activity_account_attributes_elements = get_wait_elements(  # Родительский элемент с кол-вом постов, подписчиков и подписок\n",
    "            driver=activity_account_parent_element, \n",
    "            by=By.TAG_NAME, \n",
    "            searched_elem='li',\n",
    "            delay=3,\n",
    "            attempts=1,\n",
    "            is_error=False\n",
    "        )\n",
    "        if activity_account_attributes_elements:\n",
    "            activity_list = [activity_account_attributes_element.text for activity_account_attributes_element in activity_account_attributes_elements]\n",
    "            activity_attrs = parse_activity_data(activity_list)  # 'posts', 'subscribers', 'subscriptions'\n",
    "            print(f'Найдены атрибуты активности: {activity_attrs}')\n",
    "\n",
    "    account_info = {'description': description,\n",
    "                    'links_contacts': list(links_contacts),\n",
    "                    'links_description': list(links_description)} | activity_attrs\n",
    "\n",
    "    return account_info"
   ]
  },
  {
   "cell_type": "code",
   "execution_count": 18,
   "metadata": {},
   "outputs": [
    {
     "data": {
      "text/plain": [
       "5"
      ]
     },
     "execution_count": 18,
     "metadata": {},
     "output_type": "execute_result"
    }
   ],
   "source": [
    "import random\n",
    "random.randrange(1, 10)"
   ]
  },
  {
   "cell_type": "code",
   "execution_count": 19,
   "metadata": {},
   "outputs": [],
   "source": [
    "import re\n",
    "POST_VALUE = 1\n",
    "ACCOUNT_VALUE = 2\n",
    "INVALID_VALUE = 9\n",
    "\n",
    "\n",
    "def validate_instagram_url(url: str) -> int:\n",
    "    \"\"\"\n",
    "    Проверяет, является ли ссылка ссылкой на пост или на аккаунт в Instagram.\n",
    "    \"\"\"\n",
    "    post_pattern = re.compile(r\"^https://www\\.instagram\\.com/p/[\\w\\-]+/$\")\n",
    "    account_pattern = re.compile(r\"^https://www\\.instagram\\.com/[\\w\\.]+/$\")\n",
    "\n",
    "    if post_pattern.match(url):\n",
    "        return POST_VALUE\n",
    "    elif account_pattern.match(url):\n",
    "        return ACCOUNT_VALUE\n",
    "    else:\n",
    "        return INVALID_VALUE"
   ]
  },
  {
   "cell_type": "code",
   "execution_count": 27,
   "metadata": {},
   "outputs": [
    {
     "name": "stdout",
     "output_type": "stream",
     "text": [
      "['https://www.instagram.com/p/uYEH39S/', 'https://www.instagram.com/dada31/']\n",
      "['https://www.instagram.com/p/uYEH39S/']\n"
     ]
    }
   ],
   "source": []
  },
  {
   "cell_type": "code",
   "execution_count": null,
   "metadata": {},
   "outputs": [],
   "source": [
    "\n"
   ]
  },
  {
   "cell_type": "code",
   "execution_count": 24,
   "metadata": {},
   "outputs": [
    {
     "data": {
      "text/plain": [
       "['https://www.instagram.com/p/uYEH39S/']"
      ]
     },
     "execution_count": 24,
     "metadata": {},
     "output_type": "execute_result"
    }
   ],
   "source": [
    "post_links"
   ]
  },
  {
   "cell_type": "code",
   "execution_count": null,
   "metadata": {},
   "outputs": [],
   "source": []
  }
 ],
 "metadata": {
  "kernelspec": {
   "display_name": ".venv",
   "language": "python",
   "name": "python3"
  },
  "language_info": {
   "codemirror_mode": {
    "name": "ipython",
    "version": 3
   },
   "file_extension": ".py",
   "mimetype": "text/x-python",
   "name": "python",
   "nbconvert_exporter": "python",
   "pygments_lexer": "ipython3",
   "version": "3.10.12"
  }
 },
 "nbformat": 4,
 "nbformat_minor": 2
}
