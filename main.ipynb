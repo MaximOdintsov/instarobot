{
 "cells": [
  {
   "cell_type": "code",
   "execution_count": 1,
   "metadata": {},
   "outputs": [],
   "source": [
    "import time\n",
    "import json\n",
    "import asyncio\n",
    "import random\n",
    "from typing import List\n",
    "from datetime import datetime\n",
    "\n",
    "from selenium import webdriver\n",
    "from selenium.webdriver.common.by import By\n",
    "from selenium.webdriver.common.action_chains import ActionChains\n",
    "from selenium.webdriver.common.keys import Keys\n",
    "\n",
    "from helpers.selenium_management import start_driver, open_link, get_wait_element, get_wait_elements, close_driver, get_link_elements, get_links\n",
    "from helpers.utils import extract_original_link, parse_activity_data, validate_instagram_url, POST_VALUE\n",
    "from helpers.excel import PyXLWriter\n",
    "\n",
    "import config\n",
    "from robot import auth, account_get_post_links, account_send_comment"
   ]
  },
  {
   "cell_type": "code",
   "execution_count": 2,
   "metadata": {},
   "outputs": [],
   "source": [
    "with open(config.ACCOUNT_LINKS_PATH, \"r\", encoding=\"utf-8\") as file:\n",
    "    accounts = file.read()\n",
    "    accounts = accounts.split('\\n')\n",
    "\n",
    "# Список шаблонов сообщений\n",
    "with open(config.MESSAGE_TEMPLATES_PATH, \"r\", encoding=\"utf-8\") as file:\n",
    "    messages = json.load(file)\n",
    "\n",
    "# Список шаблонов комментариев\n",
    "with open(config.COMMENT_TEMPLATES_PATH, \"r\", encoding=\"utf-8\") as file:\n",
    "    comments = json.load(file)\n",
    "\n",
    "# Список данных от аккаунтов\n",
    "with open(config.AUTH_DATA_PATH, \"r\", encoding=\"utf-8\") as file:\n",
    "    auth_data_list = json.load(file)"
   ]
  },
  {
   "cell_type": "code",
   "execution_count": 3,
   "metadata": {},
   "outputs": [
    {
     "name": "stdout",
     "output_type": "stream",
     "text": [
      "HTTP-код 200. Страница доступна.\n"
     ]
    },
    {
     "data": {
      "text/plain": [
       "True"
      ]
     },
     "execution_count": 3,
     "metadata": {},
     "output_type": "execute_result"
    }
   ],
   "source": [
    "driver = start_driver()\n",
    "\n",
    "auth_data = auth_data_list[0]\n",
    "username = auth_data.get('username')\n",
    "password = auth_data.get('password')\n",
    "\n",
    "auth(driver=driver, username=username, password=password)"
   ]
  },
  {
   "cell_type": "code",
   "execution_count": 11,
   "metadata": {},
   "outputs": [],
   "source": [
    "def account_get_post_links(driver: webdriver, account_link: str) -> list:\n",
    "    \"\"\"\n",
    "    Парсинг ссылок на посты аккаунта\n",
    "    \"\"\"\n",
    "    open_link(driver, account_link)\n",
    "    posts_parent_element = get_wait_element(\n",
    "        driver=driver,\n",
    "        by=By.XPATH,\n",
    "        searched_elem='/html/body/div[2]/div/div/div[2]/div/div/div[1]/div[2]/div/div[1]/section/main/div/div[2]',\n",
    "        delay=15,\n",
    "        sleep=3,\n",
    "        attempts=2\n",
    "    )\n",
    "    link_elements = get_link_elements(posts_parent_element)\n",
    "    post_links = get_links(link_elements=link_elements)\n",
    "    return post_links\n",
    "\n"
   ]
  },
  {
   "cell_type": "code",
   "execution_count": 4,
   "metadata": {},
   "outputs": [
    {
     "name": "stdout",
     "output_type": "stream",
     "text": [
      "HTTP-код 200. Страница доступна.\n"
     ]
    }
   ],
   "source": [
    "account_link = \"https://www.instagram.com/derekeh_/\"\n",
    "post_links = account_get_post_links(driver=driver, account_link=account_link)"
   ]
  },
  {
   "cell_type": "code",
   "execution_count": 73,
   "metadata": {},
   "outputs": [],
   "source": [
    "def account_send_comment(driver: webdriver, post_link: str, comment: str) -> bool:\n",
    "    \"\"\"\n",
    "    Отправка комментария к посту\n",
    "    \"\"\"\n",
    "    open_link(driver, post_link)\n",
    "    \n",
    "    comment_element = get_wait_element(\n",
    "        driver=driver,\n",
    "        by=By.XPATH,\n",
    "        searched_elem='//textarea[@aria-label=\"Добавьте комментарий...\"]',\n",
    "        delay=15,\n",
    "        sleep=3,\n",
    "        attempts=2\n",
    "    )\n",
    "    if comment_element:    \n",
    "        ActionChains(driver).click(comment_element).send_keys(str(comment)).perform()\n",
    "        time.sleep(3)\n",
    "        driver.switch_to.active_element.send_keys(Keys.ENTER)  # Отправляет коммент\n",
    "        print(f'Написал комментарий к посту: {post_link}')\n",
    "        return True\n",
    "    print(f'Не получилось написать комментарий к посту: {post_link}')\n",
    "    return False\n",
    "\n"
   ]
  },
  {
   "cell_type": "code",
   "execution_count": 5,
   "metadata": {},
   "outputs": [
    {
     "name": "stdout",
     "output_type": "stream",
     "text": [
      "HTTP-код 200. Страница доступна.\n",
      "Написал комментарий к посту: https://www.instagram.com/derekeh_/p/DD95M70vxlH/\n"
     ]
    },
    {
     "data": {
      "text/plain": [
       "True"
      ]
     },
     "execution_count": 5,
     "metadata": {},
     "output_type": "execute_result"
    }
   ],
   "source": [
    "first_post_link = post_links[0]\n",
    "account_send_comment(driver=driver, post_link=first_post_link, comment=random.choice(comments))"
   ]
  },
  {
   "cell_type": "code",
   "execution_count": 55,
   "metadata": {},
   "outputs": [],
   "source": [
    "comment_element = get_wait_element(\n",
    "        driver=driver,\n",
    "        by=By.XPATH,\n",
    "        searched_elem='//textarea[@aria-label=\"Добавьте комментарий...\"]',\n",
    "        delay=15,\n",
    "        sleep=3,\n",
    "        attempts=2\n",
    "    )"
   ]
  },
  {
   "cell_type": "code",
   "execution_count": 53,
   "metadata": {},
   "outputs": [
    {
     "data": {
      "text/plain": [
       "<selenium.webdriver.common.action_chains.ActionChains at 0x7a56e1bd4b80>"
      ]
     },
     "execution_count": 53,
     "metadata": {},
     "output_type": "execute_result"
    }
   ],
   "source": [
    "ActionChains(driver).click_and_hold(comment_element).click().send_keys('wow')"
   ]
  },
  {
   "cell_type": "code",
   "execution_count": 62,
   "metadata": {},
   "outputs": [
    {
     "data": {
      "text/plain": [
       "<selenium.webdriver.common.action_chains.ActionChains at 0x7a56e1ad37c0>"
      ]
     },
     "execution_count": 62,
     "metadata": {},
     "output_type": "execute_result"
    }
   ],
   "source": [
    "action = ActionChains(driver)\n",
    "action.click(comment_element)\n",
    "action.send_keys('wow').perform()\n",
    "comment_element.send_keys()"
   ]
  },
  {
   "cell_type": "code",
   "execution_count": 70,
   "metadata": {},
   "outputs": [
    {
     "data": {
      "text/plain": [
       "'🙌'"
      ]
     },
     "execution_count": 70,
     "metadata": {},
     "output_type": "execute_result"
    }
   ],
   "source": [
    "random.choice(comments)"
   ]
  },
  {
   "cell_type": "code",
   "execution_count": 77,
   "metadata": {},
   "outputs": [
    {
     "name": "stdout",
     "output_type": "stream",
     "text": [
      "1\n",
      "c,  2\n",
      "2\n",
      "c,  3\n",
      "3\n",
      "c,  4\n",
      "4\n",
      "c,  5\n"
     ]
    }
   ],
   "source": [
    "message_num = 2\n",
    "account_counter = 1\n",
    "accounts = [1, 2, 3, 4, 5, 6, 7,8 ,9]\n",
    "for i in range(2):\n",
    "    for account_link in accounts[account_counter:account_counter+message_num]:\n",
    "        print(account_counter)\n",
    "        account_counter += 1\n",
    "        print('c, ', account_counter)\n",
    "    "
   ]
  },
  {
   "cell_type": "code",
   "execution_count": null,
   "metadata": {},
   "outputs": [],
   "source": []
  }
 ],
 "metadata": {
  "kernelspec": {
   "display_name": ".venv",
   "language": "python",
   "name": "python3"
  },
  "language_info": {
   "codemirror_mode": {
    "name": "ipython",
    "version": 3
   },
   "file_extension": ".py",
   "mimetype": "text/x-python",
   "name": "python",
   "nbconvert_exporter": "python",
   "pygments_lexer": "ipython3",
   "version": "3.10.12"
  }
 },
 "nbformat": 4,
 "nbformat_minor": 2
}
