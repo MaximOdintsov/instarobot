{
 "cells": [
  {
   "cell_type": "code",
   "execution_count": 20,
   "metadata": {},
   "outputs": [],
   "source": [
    "import time\n",
    "import json\n",
    "import asyncio\n",
    "from typing import List\n",
    "from datetime import datetime\n",
    "\n",
    "from selenium import webdriver\n",
    "from selenium.webdriver.common.by import By\n",
    "from selenium.webdriver.common.action_chains import ActionChains\n",
    "from selenium.webdriver.common.keys import Keys\n",
    "\n",
    "from helpers.selenium_management import start_driver, open_link, get_wait_element, get_wait_elements, close_driver, get_link_elements, get_links\n",
    "from helpers.utils import extract_original_link, parse_activity_data, validate_instagram_url, POST_VALUE\n",
    "from helpers.excel import PyXLWriter\n",
    "\n",
    "\n",
    "import config\n",
    "from robot import auth"
   ]
  },
  {
   "cell_type": "code",
   "execution_count": 2,
   "metadata": {},
   "outputs": [],
   "source": [
    "with open(config.ACCOUNT_LINKS_PATH, \"r\", encoding=\"utf-8\") as file:\n",
    "    accounts = file.read()\n",
    "    accounts = accounts.split('\\n')\n",
    "\n",
    "# Список шаблонов сообщений\n",
    "with open(config.MESSAGE_TEMPLATES_PATH, \"r\", encoding=\"utf-8\") as file:\n",
    "    messages = json.load(file)\n",
    "\n",
    "# Список данных от аккаунтов\n",
    "with open(config.AUTH_DATA_PATH, \"r\", encoding=\"utf-8\") as file:\n",
    "    auth_data_list = json.load(file)"
   ]
  },
  {
   "cell_type": "code",
   "execution_count": 3,
   "metadata": {},
   "outputs": [
    {
     "name": "stdout",
     "output_type": "stream",
     "text": [
      "HTTP-код 200. Страница доступна.\n",
      "HTTP-код 200. Страница доступна.\n"
     ]
    },
    {
     "data": {
      "text/plain": [
       "True"
      ]
     },
     "execution_count": 3,
     "metadata": {},
     "output_type": "execute_result"
    }
   ],
   "source": [
    "driver = start_driver()\n",
    "\n",
    "auth_data = auth_data_list[0]\n",
    "username = auth_data.get('username')\n",
    "password = auth_data.get('password')\n",
    "\n",
    "auth(driver=driver, username=username, password=password)\n",
    "open_link(driver, accounts[0])"
   ]
  },
  {
   "cell_type": "code",
   "execution_count": 7,
   "metadata": {},
   "outputs": [],
   "source": [
    "posts_parent_element = get_wait_element(\n",
    "    driver=driver,\n",
    "    by=By.XPATH,\n",
    "    searched_elem='/html/body/div[2]/div/div/div[2]/div/div/div[1]/div[2]/div/div[1]/section/main/div/div[2]',\n",
    "    delay=5,\n",
    ")\n",
    "time.sleep(3)\n",
    "link_elements = get_link_elements(posts_parent_element)\n",
    "post_links = get_links(link_elements=link_elements)\n",
    "\n",
    "# first_link = None\n",
    "# for post_link in post_links:\n",
    "#     if validate_instagram_url(post_link) == POST_VALUE:\n",
    "#         first_link = post_link\n",
    "#         break\n",
    "# first_link"
   ]
  },
  {
   "cell_type": "code",
   "execution_count": 32,
   "metadata": {},
   "outputs": [
    {
     "data": {
      "text/plain": [
       "['https://www.instagram.com/bbw_badd/reel/CzVdKECuFie/',\n",
       " 'https://www.instagram.com/bbw_badd/p/Cf2a9wesfW3/',\n",
       " 'https://www.instagram.com/bbw_badd/p/CctBLc6rr97/',\n",
       " 'https://www.instagram.com/bbw_badd/p/Ch2dTzirjho/',\n",
       " 'https://www.instagram.com/bbw_badd/reel/CalUdAuFKfy/',\n",
       " 'https://www.instagram.com/bbw_badd/reel/Ccs0CiUFXSu/',\n",
       " 'https://www.instagram.com/bbw_badd/p/CbobzVJsu7O/',\n",
       " 'https://www.instagram.com/bbw_badd/p/ChEEpTmsK1x/',\n",
       " 'https://www.instagram.com/bbw_badd/p/CjBSYRyLhna/',\n",
       " 'https://www.instagram.com/bbw_badd/reel/CdVqeLAlS9h/',\n",
       " 'https://www.instagram.com/bbw_badd/p/CaxxjjuJ6wt/',\n",
       " 'https://www.instagram.com/bbw_badd/p/Ca0V--FJAKI/',\n",
       " 'https://www.instagram.com/bbw_badd/reel/CvHcDUjOjZD/',\n",
       " 'https://www.instagram.com/bbw_badd/p/CjD9-b3pMCH/',\n",
       " 'https://www.instagram.com/bbw_badd/p/CgpaPZtr9oH/',\n",
       " 'https://www.instagram.com/bbw_badd/p/CrUODnyRFDU/',\n",
       " 'https://www.instagram.com/bbw_badd/p/CZ-O3tDpKAc/',\n",
       " 'https://www.instagram.com/bbw_badd/p/CezmUWAMpsP/',\n",
       " 'https://www.instagram.com/bbw_badd/reel/CbGyGJFlC2h/',\n",
       " 'https://www.instagram.com/bbw_badd/reel/ChEH1kIF9Uv/',\n",
       " 'https://www.instagram.com/bbw_badd/reel/CZur5l6pYrj/',\n",
       " 'https://www.instagram.com/bbw_badd/reel/CiI9kXDPIr3/',\n",
       " 'https://www.instagram.com/bbw_badd/p/CtFzf8buPqJ/',\n",
       " 'https://www.instagram.com/bbw_badd/p/Cr63JNCx6rQ/']"
      ]
     },
     "execution_count": 32,
     "metadata": {},
     "output_type": "execute_result"
    }
   ],
   "source": [
    "post_links"
   ]
  },
  {
   "cell_type": "code",
   "execution_count": 34,
   "metadata": {},
   "outputs": [
    {
     "name": "stdout",
     "output_type": "stream",
     "text": [
      "HTTP-код 200. Страница доступна.\n",
      "<selenium.webdriver.remote.webelement.WebElement (session=\"b3ebd230d8dbea94a4dd31dd1df80d7d\", element=\"f.EA1797745CF074C7B0862FDE93039057.d.4CD9493730C1CD7D758CC16183D4B50D.e.3971\")>\n",
      "Написал комментарий\n"
     ]
    }
   ],
   "source": [
    "post_link = post_links[1]\n",
    "open_link(driver, post_link)\n",
    "\n",
    "comment_element = get_wait_element(\n",
    "    driver=driver,\n",
    "    by=By.XPATH,\n",
    "    searched_elem='//textarea[@aria-label=\"Добавьте комментарий...\"]',\n",
    "    delay=5,\n",
    "    sleep=3,\n",
    ")\n",
    "\n",
    "message = '🔥❤️❤️'\n",
    "\n",
    "comment_element.clear()\n",
    "print(comment_element)\n",
    "ActionChains(driver).move_to_element(comment_element).click().send_keys(message).perform()\n",
    "time.sleep(3)\n",
    "driver.switch_to.active_element.send_keys(Keys.ENTER)  # Отправляет коммент\n",
    "time.sleep(3)\n",
    "print(f'Написал комментарий')\n",
    "\n"
   ]
  },
  {
   "cell_type": "code",
   "execution_count": 29,
   "metadata": {},
   "outputs": [
    {
     "data": {
      "text/plain": [
       "<selenium.webdriver.remote.webelement.WebElement (session=\"b3ebd230d8dbea94a4dd31dd1df80d7d\", element=\"f.EA1797745CF074C7B0862FDE93039057.d.2CD4248F73B74690FAC9C689613DDFA1.e.3138\")>"
      ]
     },
     "execution_count": 29,
     "metadata": {},
     "output_type": "execute_result"
    }
   ],
   "source": [
    "comment_element.send"
   ]
  },
  {
   "cell_type": "code",
   "execution_count": 30,
   "metadata": {},
   "outputs": [
    {
     "data": {
      "text/plain": [
       "True"
      ]
     },
     "execution_count": 30,
     "metadata": {},
     "output_type": "execute_result"
    }
   ],
   "source": [
    "'<selenium.webdriver.remote.webelement.WebElement (session=\"b3ebd230d8dbea94a4dd31dd1df80d7d\", element=\"f.EA1797745CF074C7B0862FDE93039057.d.2CD4248F73B74690FAC9C689613DDFA1.e.3138\")>' == '<selenium.webdriver.remote.webelement.WebElement (session=\"b3ebd230d8dbea94a4dd31dd1df80d7d\", element=\"f.EA1797745CF074C7B0862FDE93039057.d.2CD4248F73B74690FAC9C689613DDFA1.e.3138\")>'"
   ]
  },
  {
   "cell_type": "code",
   "execution_count": null,
   "metadata": {},
   "outputs": [],
   "source": []
  },
  {
   "cell_type": "code",
   "execution_count": null,
   "metadata": {},
   "outputs": [],
   "source": []
  }
 ],
 "metadata": {
  "kernelspec": {
   "display_name": ".venv",
   "language": "python",
   "name": "python3"
  },
  "language_info": {
   "codemirror_mode": {
    "name": "ipython",
    "version": 3
   },
   "file_extension": ".py",
   "mimetype": "text/x-python",
   "name": "python",
   "nbconvert_exporter": "python",
   "pygments_lexer": "ipython3",
   "version": "3.10.12"
  }
 },
 "nbformat": 4,
 "nbformat_minor": 2
}
