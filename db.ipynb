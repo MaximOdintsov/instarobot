{
 "cells": [
  {
   "cell_type": "code",
   "execution_count": 4,
   "metadata": {},
   "outputs": [],
   "source": [
    "from database.orm import async_engine, async_session, insert_new_account, create_tables, get_all_accounts, mark_accounts_as_sent\n",
    "from database.models import AccountType\n",
    "import config\n",
    "\n",
    "import asyncio"
   ]
  },
  {
   "cell_type": "code",
   "execution_count": null,
   "metadata": {},
   "outputs": [],
   "source": []
  },
  {
   "cell_type": "code",
   "execution_count": 7,
   "metadata": {},
   "outputs": [
    {
     "name": "stdout",
     "output_type": "stream",
     "text": [
      "2024-12-12 20:36:43,100 INFO sqlalchemy.engine.Engine BEGIN (implicit)\n",
      "2024-12-12 20:36:43,101 INFO sqlalchemy.engine.Engine SELECT accounts.id, accounts.create_datetime, accounts.link, accounts.is_send, accounts.data, accounts.account_type \n",
      "FROM accounts\n",
      "2024-12-12 20:36:43,101 INFO sqlalchemy.engine.Engine [cached since 178.5s ago] ()\n",
      "2024-12-12 20:36:43,102 INFO sqlalchemy.engine.Engine ROLLBACK\n",
      "2024-12-12 20:36:43,111 INFO sqlalchemy.engine.Engine BEGIN (implicit)\n",
      "2024-12-12 20:36:43,112 INFO sqlalchemy.engine.Engine COMMIT\n"
     ]
    }
   ],
   "source": [
    "from helpers.excel import PyXLWriter\n",
    "\n",
    "accounts = await get_all_accounts(async_session)\n",
    "\n",
    "\n",
    "# Запись в таблицу\n",
    "pyxl = PyXLWriter(colors=2)\n",
    "# Хедеры\n",
    "pyxl[1, 1] = \"Ссылка на аккаунт\"\n",
    "\n",
    "pyxl[1, 2] = \"Описание страницы\"\n",
    "pyxl[1, 3] = \"Ссылки из контактов\"\n",
    "pyxl[1, 4] = \"Кол-во постов\"\n",
    "pyxl[1, 5] = \"Кол-во подписчиков\"\n",
    "pyxl[1, 6] = \"Кол-во подписок\"\n",
    "pyxl[1, 7] = \"Дата сохранения\"\n",
    "pyxl[1, 8] = \"Предсказанный тип аккаунта\"\n",
    "\n",
    "pyxl[1, 9] = \"Комментарий верификатора\"\n",
    "pyxl[1, 10] = \"Тип аккаунта (записывается всегда). Возможные значения: ARTIST, BEATMAKER, LABEL, MARKET, COMMUNITY, OTHER\"\n",
    "\n",
    "# Запись данных в таблицу\n",
    "for rid, account in enumerate(accounts):\n",
    "    r = rid + 2\n",
    "    \n",
    "    pyxl[r, 1] = account.link\n",
    "    pyxl[r, 2] = account.data.get('all_description', '')  # description\n",
    "    pyxl[r, 3] = \"\\n\\n\".join(account.data.get('links', []))\n",
    "    pyxl[r, 4] = account.data.get('posts', '')\n",
    "    pyxl[r, 5] = account.data.get('subscribers', '')\n",
    "    pyxl[r, 6] = account.data.get('subscriptions', '')\n",
    "    pyxl[r, 7] = account.create_datetime\n",
    "    pyxl[r, 8] = account.account_type.value\n",
    "    \n",
    "    pyxl[r, 9] = ''\n",
    "    pyxl[r, 10] = ''\n",
    "# Сохраняем файл\n",
    "pyxl.save(\"data/instagram_data.xlsx\")\n",
    "\n",
    "accounts = await mark_accounts_as_sent(async_session, accounts)"
   ]
  },
  {
   "cell_type": "code",
   "execution_count": null,
   "metadata": {},
   "outputs": [],
   "source": []
  },
  {
   "cell_type": "code",
   "execution_count": null,
   "metadata": {},
   "outputs": [],
   "source": []
  },
  {
   "cell_type": "code",
   "execution_count": null,
   "metadata": {},
   "outputs": [],
   "source": []
  }
 ],
 "metadata": {
  "kernelspec": {
   "display_name": ".venv",
   "language": "python",
   "name": "python3"
  },
  "language_info": {
   "codemirror_mode": {
    "name": "ipython",
    "version": 3
   },
   "file_extension": ".py",
   "mimetype": "text/x-python",
   "name": "python",
   "nbconvert_exporter": "python",
   "pygments_lexer": "ipython3",
   "version": "3.10.12"
  }
 },
 "nbformat": 4,
 "nbformat_minor": 2
}
